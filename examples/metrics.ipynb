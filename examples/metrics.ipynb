{
 "cells": [
  {
   "cell_type": "code",
   "execution_count": 1,
   "id": "63458ff4-d53b-4a09-9670-2ca993437336",
   "metadata": {},
   "outputs": [],
   "source": [
    "import numpy as np\n",
    "import pandas as pd\n",
    "\n",
    "from sklearn.datasets import make_multilabel_classification\n",
    "from sklearn.multiclass import OneVsRestClassifier\n",
    "from sklearn.ensemble import RandomForestClassifier\n",
    "from sklearn.model_selection import train_test_split\n",
    "\n",
    "from src.names import Columns\n",
    "\n",
    "RANDOM_STATE = 12\n",
    "N_PRODUCTS = 10\n",
    "products_names = [f\"product_{i}\" for i in range(N_PRODUCTS)]\n",
    "products_npv = {f\"product_{i}\": 10000 + i * 500 for i in range(N_PRODUCTS)}"
   ]
  },
  {
   "cell_type": "code",
   "execution_count": 2,
   "id": "90ef9fc9-ef85-4e41-84a5-9b60e4bd2b23",
   "metadata": {},
   "outputs": [],
   "source": [
    "X, y = make_multilabel_classification(\n",
    "    n_labels=2,\n",
    "    random_state=RANDOM_STATE,\n",
    "    n_classes=N_PRODUCTS,\n",
    "    n_samples=100,\n",
    "    allow_unlabeled=False\n",
    ")"
   ]
  },
  {
   "cell_type": "code",
   "execution_count": 3,
   "id": "9be6805c-e07b-4eb0-a8c8-dc974ad90cf4",
   "metadata": {},
   "outputs": [],
   "source": [
    "X_train, X_test, y_train, y_test = train_test_split(X, y, random_state=RANDOM_STATE)"
   ]
  },
  {
   "cell_type": "code",
   "execution_count": 4,
   "id": "c8d9d7fc-3741-40b2-bc4e-8c10541c8e30",
   "metadata": {},
   "outputs": [
    {
     "name": "stderr",
     "output_type": "stream",
     "text": [
      "/home/hun/py10-venv/lib/python3.10/site-packages/sklearn/multiclass.py:90: UserWarning: Label not 4 is present in all training examples.\n",
      "  warnings.warn(\n"
     ]
    }
   ],
   "source": [
    "classif = OneVsRestClassifier(RandomForestClassifier(random_state=RANDOM_STATE))\n",
    "classif.fit(X_train, y_train);"
   ]
  },
  {
   "cell_type": "code",
   "execution_count": 5,
   "id": "152bc4b0-8e2e-40d8-97b9-c11968dbc6fe",
   "metadata": {},
   "outputs": [],
   "source": [
    "predictions_test = classif.predict_proba(X_test)"
   ]
  },
  {
   "cell_type": "code",
   "execution_count": 6,
   "id": "8b55e9f5-8fcd-4240-a59c-b4f51393b5f3",
   "metadata": {},
   "outputs": [],
   "source": [
    "df_recommendations = pd.DataFrame(data=predictions_test, columns=products_names).reset_index(names=Columns.Query)\n",
    "df_interactions = pd.DataFrame(data=y_test, columns=products_names).reset_index(names=Columns.Query)\n",
    "\n",
    "df_recommendations = pd.melt(df_recommendations, id_vars=Columns.Query, var_name=Columns.Item, value_name=Columns.Score).sort_values(by=Columns.Query)\n",
    "df_interactions = (\n",
    "    pd.melt(df_interactions, id_vars=Columns.Query, var_name=Columns.Item, value_name=Columns.Weight)\n",
    "    .query(f\"{Columns.Weight} == 1\")\n",
    "    .drop(columns=Columns.Weight)\n",
    ")"
   ]
  },
  {
   "cell_type": "markdown",
   "id": "018ed75a-cc9f-4f7f-bfe8-923cd6e1f77a",
   "metadata": {},
   "source": [
    "Given $rel^Y_{u,j}$ as a ground truth relevance variable that indicates whether the item recommended at position $j$ in the ordered ranking $Y_{u,k}$. \n",
    "\n",
    "# Value at k\n",
    "\n",
    "$$Value@k=\\sum_{u\\in U}\\sum^{k}_{j=1}rel^{Y}_{u,j}\\cdot p_{j}$$"
   ]
  },
  {
   "cell_type": "code",
   "execution_count": 7,
   "id": "75a6e04a-f3f7-49bc-9a17-bd99552b1060",
   "metadata": {},
   "outputs": [],
   "source": [
    "def get_top_k_recommendations(recommendations: pd.DataFrame, k: int) -> pd.DataFrame:\n",
    "    rnk = recommendations.groupby(Columns.Query)[Columns.Score].rank(method=\"first\", ascending=False)\n",
    "    at_k_indeces = rnk[rnk <= k].index\n",
    "    return recommendations[recommendations.index.isin(at_k_indeces)]\n",
    "\n",
    "\n",
    "def merge_recommendations_interactions(\n",
    "    recommendations: pd.DataFrame,\n",
    "    interactions: pd.DataFrame\n",
    ") -> pd.DataFrame:\n",
    "    merged = pd.merge(\n",
    "        recommendations,\n",
    "        interactions.assign(relevant=True),\n",
    "        on=Columns.QueryItem,\n",
    "        how=\"left\"\n",
    "    )\n",
    "    return merged"
   ]
  },
  {
   "cell_type": "code",
   "execution_count": 8,
   "id": "266993a9-7e16-44c1-b1de-b3c07e874959",
   "metadata": {},
   "outputs": [],
   "source": [
    "top_recommendations = get_top_k_recommendations(df_recommendations, k=3)"
   ]
  },
  {
   "cell_type": "code",
   "execution_count": 9,
   "id": "be8a9876-b155-4c07-8118-4d45285c39d3",
   "metadata": {},
   "outputs": [],
   "source": [
    "merged_recommendations_interactions = merge_recommendations_interactions(top_recommendations, df_interactions)"
   ]
  },
  {
   "cell_type": "code",
   "execution_count": 10,
   "id": "f78faa8c-947f-47f4-9133-7402e9fc4e1f",
   "metadata": {},
   "outputs": [],
   "source": [
    "merged_recommendations_interactions[\"value\"] = merged_recommendations_interactions[\"relevant\"] * merged_recommendations_interactions[Columns.Item].map(products_npv)"
   ]
  },
  {
   "cell_type": "code",
   "execution_count": 11,
   "id": "11ac7d27-8d85-42c4-be20-466f50be2a18",
   "metadata": {},
   "outputs": [],
   "source": [
    "revenue_by_query = merged_recommendations_interactions.groupby(Columns.Query)[\"value\"].sum()"
   ]
  },
  {
   "cell_type": "code",
   "execution_count": 12,
   "id": "df222798-b18b-4cdf-94de-019f57b3e952",
   "metadata": {},
   "outputs": [
    {
     "data": {
      "text/plain": [
       "539000"
      ]
     },
     "execution_count": 12,
     "metadata": {},
     "output_type": "execute_result"
    }
   ],
   "source": [
    "revenue_by_query.sum()"
   ]
  },
  {
   "cell_type": "code",
   "execution_count": 13,
   "id": "d2df430a",
   "metadata": {},
   "outputs": [
    {
     "data": {
      "text/plain": [
       "539000"
      ]
     },
     "execution_count": 13,
     "metadata": {},
     "output_type": "execute_result"
    }
   ],
   "source": [
    "from src.metrics import ValueAtK\n",
    "\n",
    "ValueAtK(k=3).calc(df_recommendations, df_interactions, products_npv)"
   ]
  },
  {
   "cell_type": "markdown",
   "id": "a1eaa1dd-6973-4dd0-ab6e-9f6757b83ac8",
   "metadata": {},
   "source": [
    "# Profit-At-Hit\n",
    "\n",
    "PAH@k indicates the overall profit generated by the recommendation per user divided by the number of items sold;\n",
    "\n",
    "$$PAH@k=\\frac{1}{|U|}\\cdot\\frac{Profit@k}{Volume@k}=\\frac{1}{|U|}\\cdot\\frac{Profit(true\\ positive\\ at\\ k)}{|true\\ positive\\ at\\ k|}$$"
   ]
  },
  {
   "cell_type": "code",
   "execution_count": 14,
   "id": "2ff51345-224c-49d5-9871-fde684919ece",
   "metadata": {},
   "outputs": [
    {
     "data": {
      "text/plain": [
       "501.3953488372093"
      ]
     },
     "execution_count": 14,
     "metadata": {},
     "output_type": "execute_result"
    }
   ],
   "source": [
    "profit_at_hit = (\n",
    "    revenue_by_query.sum()\n",
    "    / merged_recommendations_interactions[\"relevant\"].sum()\n",
    "    / merged_recommendations_interactions[Columns.Query].nunique()\n",
    ")\n",
    "profit_at_hit"
   ]
  },
  {
   "cell_type": "code",
   "execution_count": 15,
   "id": "a5c8ecbe",
   "metadata": {},
   "outputs": [
    {
     "data": {
      "text/plain": [
       "501.3953488372093"
      ]
     },
     "execution_count": 15,
     "metadata": {},
     "output_type": "execute_result"
    }
   ],
   "source": [
    "from src.metrics import PAHAtK\n",
    "\n",
    "PAHAtK(k=3).calc(df_recommendations, df_interactions, products_npv)"
   ]
  },
  {
   "cell_type": "markdown",
   "id": "9c75141d-b685-44d5-8c69-15cacaee72e8",
   "metadata": {},
   "source": [
    "# Expected profit at k\n",
    "\n",
    "$$EP@k=\\sum_{u\\in U}\\sum^{k}_{j=1}\\hat{x}_{u,j}(\\Theta)\\cdot v_{j}$$"
   ]
  },
  {
   "cell_type": "code",
   "execution_count": 17,
   "id": "8adddbf6-09bf-4d28-960e-ff29776a79e0",
   "metadata": {},
   "outputs": [],
   "source": [
    "score_scaled = merged_recommendations_interactions.groupby(Columns.Query)[Columns.Score].transform(lambda x: x / x.sum())"
   ]
  },
  {
   "cell_type": "code",
   "execution_count": 32,
   "id": "d4147211",
   "metadata": {},
   "outputs": [
    {
     "data": {
      "text/html": [
       "<div>\n",
       "<style scoped>\n",
       "    .dataframe tbody tr th:only-of-type {\n",
       "        vertical-align: middle;\n",
       "    }\n",
       "\n",
       "    .dataframe tbody tr th {\n",
       "        vertical-align: top;\n",
       "    }\n",
       "\n",
       "    .dataframe thead th {\n",
       "        text-align: right;\n",
       "    }\n",
       "</style>\n",
       "<table border=\"1\" class=\"dataframe\">\n",
       "  <thead>\n",
       "    <tr style=\"text-align: right;\">\n",
       "      <th></th>\n",
       "      <th>query_column</th>\n",
       "      <th>item_column</th>\n",
       "      <th>score</th>\n",
       "      <th>relevant</th>\n",
       "      <th>value</th>\n",
       "    </tr>\n",
       "  </thead>\n",
       "  <tbody>\n",
       "    <tr>\n",
       "      <th>0</th>\n",
       "      <td>0</td>\n",
       "      <td>product_5</td>\n",
       "      <td>0.71</td>\n",
       "      <td>True</td>\n",
       "      <td>12500</td>\n",
       "    </tr>\n",
       "    <tr>\n",
       "      <th>1</th>\n",
       "      <td>0</td>\n",
       "      <td>product_8</td>\n",
       "      <td>0.55</td>\n",
       "      <td>True</td>\n",
       "      <td>14000</td>\n",
       "    </tr>\n",
       "    <tr>\n",
       "      <th>2</th>\n",
       "      <td>0</td>\n",
       "      <td>product_6</td>\n",
       "      <td>0.46</td>\n",
       "      <td>True</td>\n",
       "      <td>13000</td>\n",
       "    </tr>\n",
       "    <tr>\n",
       "      <th>3</th>\n",
       "      <td>1</td>\n",
       "      <td>product_5</td>\n",
       "      <td>0.61</td>\n",
       "      <td>True</td>\n",
       "      <td>12500</td>\n",
       "    </tr>\n",
       "    <tr>\n",
       "      <th>4</th>\n",
       "      <td>1</td>\n",
       "      <td>product_6</td>\n",
       "      <td>0.77</td>\n",
       "      <td>True</td>\n",
       "      <td>13000</td>\n",
       "    </tr>\n",
       "    <tr>\n",
       "      <th>...</th>\n",
       "      <td>...</td>\n",
       "      <td>...</td>\n",
       "      <td>...</td>\n",
       "      <td>...</td>\n",
       "      <td>...</td>\n",
       "    </tr>\n",
       "    <tr>\n",
       "      <th>70</th>\n",
       "      <td>23</td>\n",
       "      <td>product_5</td>\n",
       "      <td>0.49</td>\n",
       "      <td>True</td>\n",
       "      <td>12500</td>\n",
       "    </tr>\n",
       "    <tr>\n",
       "      <th>71</th>\n",
       "      <td>23</td>\n",
       "      <td>product_6</td>\n",
       "      <td>0.56</td>\n",
       "      <td>NaN</td>\n",
       "      <td>NaN</td>\n",
       "    </tr>\n",
       "    <tr>\n",
       "      <th>72</th>\n",
       "      <td>24</td>\n",
       "      <td>product_6</td>\n",
       "      <td>0.52</td>\n",
       "      <td>NaN</td>\n",
       "      <td>NaN</td>\n",
       "    </tr>\n",
       "    <tr>\n",
       "      <th>73</th>\n",
       "      <td>24</td>\n",
       "      <td>product_2</td>\n",
       "      <td>0.46</td>\n",
       "      <td>True</td>\n",
       "      <td>11000</td>\n",
       "    </tr>\n",
       "    <tr>\n",
       "      <th>74</th>\n",
       "      <td>24</td>\n",
       "      <td>product_8</td>\n",
       "      <td>0.50</td>\n",
       "      <td>NaN</td>\n",
       "      <td>NaN</td>\n",
       "    </tr>\n",
       "  </tbody>\n",
       "</table>\n",
       "<p>75 rows × 5 columns</p>\n",
       "</div>"
      ],
      "text/plain": [
       "    query_column item_column  score relevant  value\n",
       "0              0   product_5   0.71     True  12500\n",
       "1              0   product_8   0.55     True  14000\n",
       "2              0   product_6   0.46     True  13000\n",
       "3              1   product_5   0.61     True  12500\n",
       "4              1   product_6   0.77     True  13000\n",
       "..           ...         ...    ...      ...    ...\n",
       "70            23   product_5   0.49     True  12500\n",
       "71            23   product_6   0.56      NaN    NaN\n",
       "72            24   product_6   0.52      NaN    NaN\n",
       "73            24   product_2   0.46     True  11000\n",
       "74            24   product_8   0.50      NaN    NaN\n",
       "\n",
       "[75 rows x 5 columns]"
      ]
     },
     "execution_count": 32,
     "metadata": {},
     "output_type": "execute_result"
    }
   ],
   "source": [
    "merged_recommendations_interactions"
   ]
  },
  {
   "cell_type": "code",
   "execution_count": 35,
   "id": "4c471fef-6d91-4646-89bb-2effb1c81684",
   "metadata": {},
   "outputs": [
    {
     "data": {
      "text/plain": [
       "314762.3445513947"
      ]
     },
     "execution_count": 35,
     "metadata": {},
     "output_type": "execute_result"
    }
   ],
   "source": [
    "ep = (\n",
    "    score_scaled\n",
    "    * merged_recommendations_interactions[Columns.Item].map(products_npv)\n",
    ").sum()\n",
    "ep"
   ]
  },
  {
   "cell_type": "code",
   "execution_count": 36,
   "id": "3d039bf0",
   "metadata": {},
   "outputs": [
    {
     "data": {
      "text/plain": [
       "314762.3445513947"
      ]
     },
     "execution_count": 36,
     "metadata": {},
     "output_type": "execute_result"
    }
   ],
   "source": [
    "from src.metrics import EPAtK\n",
    "\n",
    "EPAtK(k=3).calc(df_recommendations, products_npv)"
   ]
  },
  {
   "cell_type": "markdown",
   "id": "d01071d5-1e37-4c55-8bd5-3359d27b2c51",
   "metadata": {},
   "source": [
    "# P-NDCG@k\n",
    "\n",
    "$$P-NDCG@k=\\frac{1}{|U|}\\sum_{u\\in U}\\frac{\\sum^{k}_{j=1}\\frac{rel^y_{u,j}\\cdot p_j}{log_2(j+1)}}{P-IDCG_u@k}$$"
   ]
  },
  {
   "cell_type": "code",
   "execution_count": 20,
   "id": "94a7de74-5719-48d8-9dfb-9cd7d86d0a44",
   "metadata": {},
   "outputs": [],
   "source": [
    "rnk = merged_recommendations_interactions.groupby(Columns.Query)[Columns.Score].rank(method=\"first\", ascending=False)"
   ]
  },
  {
   "cell_type": "code",
   "execution_count": 21,
   "id": "d5a3dc1e-70ac-48ee-9e42-c53332eef4dd",
   "metadata": {},
   "outputs": [],
   "source": [
    "dcg_u = merged_recommendations_interactions.groupby(Columns.Query)[\"value\"].apply(lambda value: (value / np.log2(rnk + 1)).sum())"
   ]
  },
  {
   "cell_type": "code",
   "execution_count": 22,
   "id": "c3b8275e-2941-4a79-83bd-0562572fd123",
   "metadata": {},
   "outputs": [],
   "source": [
    "relevant_recs = merged_recommendations_interactions.query(\"relevant == True\")"
   ]
  },
  {
   "cell_type": "code",
   "execution_count": 23,
   "id": "7c92270a-628a-4d90-96ee-ca8e189bfc0a",
   "metadata": {},
   "outputs": [],
   "source": [
    "rnk_ideal = relevant_recs.groupby(Columns.Query)[\"value\"].rank(method=\"first\", ascending=False)"
   ]
  },
  {
   "cell_type": "code",
   "execution_count": 24,
   "id": "55e5b460-eec1-488f-8dde-041d6c98b00a",
   "metadata": {},
   "outputs": [],
   "source": [
    "idcg_u = relevant_recs.groupby(Columns.Query)[\"value\"].apply(lambda value: (value / np.log2(rnk_ideal + 1)).sum())"
   ]
  },
  {
   "cell_type": "code",
   "execution_count": 25,
   "id": "d8045820-d301-42a3-b110-ed0a4e209ed9",
   "metadata": {},
   "outputs": [
    {
     "data": {
      "text/plain": [
       "0.9252702633315137"
      ]
     },
     "execution_count": 25,
     "metadata": {},
     "output_type": "execute_result"
    }
   ],
   "source": [
    "(dcg_u / idcg_u).mean()"
   ]
  },
  {
   "cell_type": "code",
   "execution_count": 27,
   "id": "30e9b8bf",
   "metadata": {},
   "outputs": [
    {
     "data": {
      "text/plain": [
       "0.9252702633315137"
      ]
     },
     "execution_count": 27,
     "metadata": {},
     "output_type": "execute_result"
    }
   ],
   "source": [
    "from src.metrics import PNDCGAtK\n",
    "\n",
    "PNDCGAtK(k=3).calc(df_recommendations, df_interactions, products_npv)"
   ]
  }
 ],
 "metadata": {
  "kernelspec": {
   "display_name": "Python 3 (ipykernel)",
   "language": "python",
   "name": "python3"
  },
  "language_info": {
   "codemirror_mode": {
    "name": "ipython",
    "version": 3
   },
   "file_extension": ".py",
   "mimetype": "text/x-python",
   "name": "python",
   "nbconvert_exporter": "python",
   "pygments_lexer": "ipython3",
   "version": "3.10.12"
  }
 },
 "nbformat": 4,
 "nbformat_minor": 5
}
