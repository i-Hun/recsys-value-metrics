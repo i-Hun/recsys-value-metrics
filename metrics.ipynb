{
 "cells": [
  {
   "cell_type": "code",
   "execution_count": 173,
   "id": "63458ff4-d53b-4a09-9670-2ca993437336",
   "metadata": {},
   "outputs": [],
   "source": [
    "import numpy as np\n",
    "import pandas as pd\n",
    "\n",
    "from sklearn.datasets import make_multilabel_classification\n",
    "from sklearn.multiclass import OneVsRestClassifier\n",
    "from sklearn.ensemble import RandomForestClassifier\n",
    "from sklearn.model_selection import train_test_split\n",
    "\n",
    "from names import Columns\n",
    "\n",
    "RANDOM_STATE = 12\n",
    "N_PRODUCTS = 10\n",
    "products_names = [f\"product_{i}\" for i in range(N_PRODUCTS)]\n",
    "products_npv = {f\"product_{i}\": 10000 + i * 500 for i in range(N_PRODUCTS)}"
   ]
  },
  {
   "cell_type": "code",
   "execution_count": 62,
   "id": "90ef9fc9-ef85-4e41-84a5-9b60e4bd2b23",
   "metadata": {},
   "outputs": [],
   "source": [
    "X, y = make_multilabel_classification(\n",
    "    n_labels=2,\n",
    "    random_state=RANDOM_STATE,\n",
    "    n_classes=N_PRODUCTS,\n",
    "    n_samples=100,\n",
    "    allow_unlabeled=False\n",
    ")"
   ]
  },
  {
   "cell_type": "code",
   "execution_count": 63,
   "id": "9be6805c-e07b-4eb0-a8c8-dc974ad90cf4",
   "metadata": {},
   "outputs": [],
   "source": [
    "X_train, X_test, y_train, y_test = train_test_split(X, y, random_state=RANDOM_STATE)"
   ]
  },
  {
   "cell_type": "code",
   "execution_count": 64,
   "id": "c8d9d7fc-3741-40b2-bc4e-8c10541c8e30",
   "metadata": {},
   "outputs": [
    {
     "name": "stderr",
     "output_type": "stream",
     "text": [
      "E:\\projects\\py10\\lib\\site-packages\\sklearn\\multiclass.py:90: UserWarning: Label not 4 is present in all training examples.\n",
      "  warnings.warn(\n"
     ]
    }
   ],
   "source": [
    "classif = OneVsRestClassifier(RandomForestClassifier())\n",
    "classif.fit(X_train, y_train);"
   ]
  },
  {
   "cell_type": "code",
   "execution_count": 65,
   "id": "152bc4b0-8e2e-40d8-97b9-c11968dbc6fe",
   "metadata": {},
   "outputs": [],
   "source": [
    "predictions_test = classif.predict_proba(X_test)"
   ]
  },
  {
   "cell_type": "code",
   "execution_count": 161,
   "id": "8b55e9f5-8fcd-4240-a59c-b4f51393b5f3",
   "metadata": {},
   "outputs": [],
   "source": [
    "df_recommendations = pd.DataFrame(data=predictions_test, columns=products_names).reset_index(names=Columns.Query)\n",
    "df_interactions = pd.DataFrame(data=y_test, columns=products_names).reset_index(names=Columns.Query)\n",
    "\n",
    "df_recommendations = pd.melt(df_recommendations, id_vars=Columns.Query, var_name=Columns.Item, value_name=Columns.Score).sort_values(by=Columns.Query)\n",
    "df_interactions = (\n",
    "    pd.melt(df_interactions, id_vars=Columns.Query, var_name=Columns.Item, value_name=Columns.Weight)\n",
    "    .query(f\"{Columns.Weight} == 1\")\n",
    "    .drop(columns=Columns.Weight)\n",
    ")"
   ]
  },
  {
   "cell_type": "markdown",
   "id": "018ed75a-cc9f-4f7f-bfe8-923cd6e1f77a",
   "metadata": {},
   "source": [
    "Given $rel^Y_{u,j}$ as a ground truth relevance variable that indicates whether the item recommended at position $j$ in the ordered ranking $Y_{u,k}$. \n",
    "\n",
    "# Value at k\n",
    "\n",
    "$$\\sum_{u\\in U}\\sum^{k}_{j=1}rel^{Y}_{u,j}\\cdot p_{j}$$"
   ]
  },
  {
   "cell_type": "code",
   "execution_count": 175,
   "id": "75a6e04a-f3f7-49bc-9a17-bd99552b1060",
   "metadata": {},
   "outputs": [],
   "source": [
    "def get_top_k_recommendations(recommendations: pd.DataFrame, k: int) -> pd.DataFrame:\n",
    "    rnk = recommendations.groupby(Columns.Query)[Columns.Score].rank(method=\"first\", ascending=False)\n",
    "    at_k_indeces = rnk[rnk <= k].index\n",
    "    return recommendations[recommendations.index.isin(at_k_indeces)]\n",
    "\n",
    "\n",
    "def merge_recommendations_interactions(\n",
    "    recommendations: pd.DataFrame,\n",
    "    interactions: pd.DataFrame\n",
    ") -> pd.DataFrame:\n",
    "    merged = pd.merge(\n",
    "        recommendations,\n",
    "        interactions.assign(relevant=True),\n",
    "        on=Columns.QueryItem,\n",
    "        how=\"left\"\n",
    "    )\n",
    "    return merged"
   ]
  },
  {
   "cell_type": "code",
   "execution_count": 176,
   "id": "266993a9-7e16-44c1-b1de-b3c07e874959",
   "metadata": {},
   "outputs": [],
   "source": [
    "top_recommendations = get_top_k_recommendations(df_recommendations, k=3)"
   ]
  },
  {
   "cell_type": "code",
   "execution_count": 177,
   "id": "be8a9876-b155-4c07-8118-4d45285c39d3",
   "metadata": {},
   "outputs": [],
   "source": [
    "merged_recommendations_interactions = merge_recommendations_interactions(top_recommendations, df_interactions)"
   ]
  },
  {
   "cell_type": "code",
   "execution_count": 183,
   "id": "12b17e43-3ec5-423c-abaa-1f96059fb12d",
   "metadata": {},
   "outputs": [
    {
     "data": {
      "text/plain": [
       "0     product_5\n",
       "1     product_8\n",
       "2     product_6\n",
       "3     product_5\n",
       "4     product_6\n",
       "        ...    \n",
       "70    product_5\n",
       "71    product_6\n",
       "72    product_6\n",
       "73    product_2\n",
       "74    product_8\n",
       "Name: item_column, Length: 75, dtype: object"
      ]
     },
     "execution_count": 183,
     "metadata": {},
     "output_type": "execute_result"
    }
   ],
   "source": [
    "merged_recommendations_interactions[Columns.Item]"
   ]
  },
  {
   "cell_type": "code",
   "execution_count": 186,
   "id": "f78faa8c-947f-47f4-9133-7402e9fc4e1f",
   "metadata": {},
   "outputs": [],
   "source": [
    "merged_recommendations_interactions[\"revenue\"] = merged_recommendations_interactions[\"relevant\"] * merged_recommendations_interactions[Columns.Item].map(products_npv)"
   ]
  },
  {
   "cell_type": "code",
   "execution_count": 191,
   "id": "11ac7d27-8d85-42c4-be20-466f50be2a18",
   "metadata": {},
   "outputs": [],
   "source": [
    "revenue_by_query = merged_recommendations_interactions.groupby(Columns.Query)[\"revenue\"].sum()"
   ]
  },
  {
   "cell_type": "code",
   "execution_count": 193,
   "id": "df222798-b18b-4cdf-94de-019f57b3e952",
   "metadata": {},
   "outputs": [
    {
     "data": {
      "text/plain": [
       "515500"
      ]
     },
     "execution_count": 193,
     "metadata": {},
     "output_type": "execute_result"
    }
   ],
   "source": [
    "revenue_by_query.sum()"
   ]
  },
  {
   "cell_type": "markdown",
   "id": "a1eaa1dd-6973-4dd0-ab6e-9f6757b83ac8",
   "metadata": {},
   "source": [
    "# Profit-At-Hit\n",
    "\n",
    "PAH@k indicates the overall profit generated by the recommendation per user divided by the number of items sold;"
   ]
  },
  {
   "cell_type": "code",
   "execution_count": 198,
   "id": "2ff51345-224c-49d5-9871-fde684919ece",
   "metadata": {},
   "outputs": [
    {
     "data": {
      "text/plain": [
       "502.9268292682927"
      ]
     },
     "execution_count": 198,
     "metadata": {},
     "output_type": "execute_result"
    }
   ],
   "source": [
    "revenue_by_query.sum() / merged_recommendations_interactions[\"relevant\"].sum() / merged_recommendations_interactions[Columns.Query].nunique()"
   ]
  },
  {
   "cell_type": "code",
   "execution_count": null,
   "id": "4c471fef-6d91-4646-89bb-2effb1c81684",
   "metadata": {},
   "outputs": [],
   "source": []
  }
 ],
 "metadata": {
  "kernelspec": {
   "display_name": "Python 3 (ipykernel)",
   "language": "python",
   "name": "python3"
  },
  "language_info": {
   "codemirror_mode": {
    "name": "ipython",
    "version": 3
   },
   "file_extension": ".py",
   "mimetype": "text/x-python",
   "name": "python",
   "nbconvert_exporter": "python",
   "pygments_lexer": "ipython3",
   "version": "3.10.10"
  }
 },
 "nbformat": 4,
 "nbformat_minor": 5
}
